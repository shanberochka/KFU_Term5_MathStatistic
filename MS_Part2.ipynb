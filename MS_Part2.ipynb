{
 "cells": [
  {
   "cell_type": "code",
   "execution_count": 1,
   "metadata": {},
   "outputs": [],
   "source": [
    "import matplotlib.pyplot as plt\n",
    "import numpy as np\n",
    "from scipy import stats\n",
    "from scipy import optimize\n",
    "import pandas as pd"
   ]
  },
  {
   "cell_type": "code",
   "execution_count": 2,
   "metadata": {},
   "outputs": [],
   "source": [
    "def get_dict(X):\n",
    "    value_freq_dict = {}\n",
    "    for x in X:\n",
    "        if x in value_freq_dict.keys():\n",
    "            value_freq_dict[x][0]+=1\n",
    "        else:\n",
    "            value_freq_dict[x]=[]\n",
    "            value_freq_dict[x].append(1)\n",
    "    for x in value_freq_dict.keys():\n",
    "        value_freq_dict[x].append(value_freq_dict[x][0]/len(X))\n",
    "    return value_freq_dict"
   ]
  },
  {
   "cell_type": "code",
   "execution_count": 3,
   "metadata": {},
   "outputs": [],
   "source": [
    "def get_mean(X_dict):\n",
    "    mean = 0\n",
    "    for x in X_dict.keys():\n",
    "        mean += x*X_dict[x][1]\n",
    "    return round(mean, 3)"
   ]
  },
  {
   "cell_type": "code",
   "execution_count": 4,
   "metadata": {},
   "outputs": [],
   "source": [
    "def get_median(X):\n",
    "    X_var_series = sorted(X)\n",
    "    n = len(X)\n",
    "    if n%2==0:\n",
    "        k = int(n/2)\n",
    "        return round((X_var_series[k-1]+X_var_series[k+1-1])/2,3)\n",
    "    else:\n",
    "        k = int((n-1)/2)\n",
    "        return round(X_var_series[k],3)"
   ]
  },
  {
   "cell_type": "code",
   "execution_count": 5,
   "metadata": {},
   "outputs": [],
   "source": [
    "def get_disp(X_dict, mean):\n",
    "    disp = 0\n",
    "    for x in X_dict.keys():\n",
    "        disp+=(x-mean)**2*X_dict[x][1]\n",
    "    return round(disp, 3)"
   ]
  },
  {
   "cell_type": "code",
   "execution_count": null,
   "metadata": {},
   "outputs": [],
   "source": [
    "def quartile_1_4(time_series_X):\n",
    "    n = len(time_series_X)\n",
    "    if (n % 4==0):\n",
    "        q_1_4 = (time_series_X[int(n/4)-1]+time_series_X[int(n/4)])/2\n",
    "    else:\n",
    "        q_1_4 = time_series_X[int(n/4)+1-1]\n",
    "    return round(q_1_4,3)"
   ]
  },
  {
   "cell_type": "code",
   "execution_count": null,
   "metadata": {},
   "outputs": [],
   "source": [
    "def quartile_3_4(time_series_X):\n",
    "  n = len(time_series_X)\n",
    "  if (n % 4==0):\n",
    "    q_3_4 = (time_series_X[int(3*n/4)-1]+time_series_X[int(3*n/4)])/2\n",
    "  else:\n",
    "    q_3_4 = time_series_X[n-int(n/4)-1]\n",
    "  return round(q_3_4,3)"
   ]
  },
  {
   "cell_type": "code",
   "execution_count": null,
   "metadata": {},
   "outputs": [],
   "source": [
    "def get_mode(X_dict):\n",
    "    mode = max(X_dict, key=X_dict.get)\n",
    "    return mode"
   ]
  },
  {
   "cell_type": "code",
   "execution_count": null,
   "metadata": {},
   "outputs": [],
   "source": [
    "def get_moment(X_dict, X_mean, n):\n",
    "  n_moment = 0\n",
    "  for x in X_dict.keys():\n",
    "    n_moment += (x-X_mean)**n*X_dict[x][1]\n",
    "  return n_moment"
   ]
  },
  {
   "cell_type": "code",
   "execution_count": null,
   "metadata": {},
   "outputs": [],
   "source": [
    "def get_skewness(X_dict, X_mean):\n",
    "  X_third_moment = get_moment(X_dict, X_mean, 3)\n",
    "  X_std = get_disp(X_dict, X_mean)**0.5\n",
    "  return round(X_third_moment/X_std**3,3)"
   ]
  },
  {
   "cell_type": "code",
   "execution_count": 6,
   "metadata": {},
   "outputs": [
    {
     "data": {
      "text/plain": [
       "89"
      ]
     },
     "execution_count": 6,
     "metadata": {},
     "output_type": "execute_result"
    }
   ],
   "source": [
    "X_48 = []\n",
    "with open('ZII_48.csv') as f:\n",
    "    for line in f:\n",
    "        if line[4]==',':\n",
    "            X_48.append(float(line[:3]))\n",
    "        else:\n",
    "            X_48.append(float(line[:5]))\n",
    "len(X_48)"
   ]
  },
  {
   "cell_type": "code",
   "execution_count": 7,
   "metadata": {},
   "outputs": [],
   "source": [
    "X_0 = 114.75\n",
    "delta = 1\n",
    "mu_low_border_p = 91\n",
    "disp_high_border_p = 91\n",
    "med_two_side_border_p = 90\n",
    "p_low_border_p = 99\n",
    "quality_norm_p = 118.6"
   ]
  },
  {
   "cell_type": "code",
   "execution_count": 8,
   "metadata": {},
   "outputs": [
    {
     "name": "stdout",
     "output_type": "stream",
     "text": [
      "X_48_mean:  120.891\n",
      "X_48_median:  121.0\n",
      "X_48_disp:  5.067\n",
      "X_48_std:  2.251\n"
     ]
    }
   ],
   "source": [
    "X_48_dict = get_dict(X_48)\n",
    "X_48_time_series = sorted(X_48)\n",
    "X_48_mean = get_mean(X_48_dict)\n",
    "X_48_median = get_median(X_48)\n",
    "X_48_disp = get_disp(X_48_dict, X_48_mean)\n",
    "X_48_std = round(X_48_disp**0.5,3)\n",
    "\n",
    "print('X_48_mean: ',X_48_mean)\n",
    "print('X_48_median: ',X_48_median)\n",
    "print('X_48_disp: ',X_48_disp)\n",
    "print('X_48_std: ',X_48_std)\n"
   ]
  },
  {
   "cell_type": "code",
   "execution_count": 9,
   "metadata": {},
   "outputs": [],
   "source": [
    "n = len(X_48)\n",
    "X_48_disp_no_bias=round(X_48_disp*n/(n-1),3)"
   ]
  },
  {
   "cell_type": "code",
   "execution_count": 10,
   "metadata": {},
   "outputs": [
    {
     "data": {
      "text/plain": [
       "2.264"
      ]
     },
     "execution_count": 10,
     "metadata": {},
     "output_type": "execute_result"
    }
   ],
   "source": [
    "X_48_std_no_bias=round((X_48_disp*n/(n-1))**0.5,3)\n",
    "X_48_std_no_bias"
   ]
  },
  {
   "cell_type": "code",
   "execution_count": 11,
   "metadata": {},
   "outputs": [
    {
     "data": {
      "text/plain": [
       "0.8651685393258427"
      ]
     },
     "execution_count": 11,
     "metadata": {},
     "output_type": "execute_result"
    }
   ],
   "source": [
    "p_118_6 = sum([1 for x in X_48 if x>118.6])/n\n",
    "p_118_6"
   ]
  },
  {
   "cell_type": "code",
   "execution_count": 12,
   "metadata": {},
   "outputs": [],
   "source": [
    "def prob_greater_that(sample, value):\n",
    "  n = len(sample)\n",
    "  return sum([1 for x in sample if x>value]),sum([1 for x in sample if x>value])/n"
   ]
  },
  {
   "cell_type": "code",
   "execution_count": 13,
   "metadata": {},
   "outputs": [
    {
     "data": {
      "text/plain": [
       "(77, 0.8651685393258427)"
      ]
     },
     "execution_count": 13,
     "metadata": {},
     "output_type": "execute_result"
    }
   ],
   "source": [
    "prob_greater_that(X_48, 118.6)"
   ]
  },
  {
   "cell_type": "code",
   "execution_count": 14,
   "metadata": {},
   "outputs": [],
   "source": [
    "def get_groupped_prob(sample_mean, value, sample_std):\n",
    "    return round(stats.norm.cdf((sample_mean-value)/sample_std),3)"
   ]
  },
  {
   "cell_type": "code",
   "execution_count": 15,
   "metadata": {},
   "outputs": [
    {
     "data": {
      "text/plain": [
       "0.844"
      ]
     },
     "execution_count": 15,
     "metadata": {},
     "output_type": "execute_result"
    }
   ],
   "source": [
    "get_groupped_prob(X_48_mean, 118.6, X_48_std_no_bias)"
   ]
  },
  {
   "cell_type": "code",
   "execution_count": 16,
   "metadata": {},
   "outputs": [
    {
     "data": {
      "text/plain": [
       "[0, 1, 1, 5, 5, 13, 19, 17, 14, 4, 4, 4, 0, 2, 0]"
      ]
     },
     "execution_count": 16,
     "metadata": {},
     "output_type": "execute_result"
    }
   ],
   "source": [
    "X_0 = 114.75\n",
    "delta = 1\n",
    "r = 15\n",
    "intervals_48 = [X_0 + i*delta for i in range(r)]\n",
    "intervals_48_count = []\n",
    "intervals_48_count.append(sum([x<=intervals_48[0] for x in sorted(X_48)]))\n",
    "for i in range(1, r):\n",
    "    intervals_48_count.append(sum([intervals_48[i-1]<x<=intervals_48[i] for x in sorted(X_48)]))\n",
    "intervals_48_count"
   ]
  },
  {
   "cell_type": "code",
   "execution_count": 17,
   "metadata": {},
   "outputs": [
    {
     "data": {
      "text/plain": [
       "89"
      ]
     },
     "execution_count": 17,
     "metadata": {},
     "output_type": "execute_result"
    }
   ],
   "source": [
    "sum(intervals_48_count)"
   ]
  },
  {
   "cell_type": "code",
   "execution_count": 18,
   "metadata": {},
   "outputs": [
    {
     "data": {
      "text/plain": [
       "120.15680018676582"
      ]
     },
     "execution_count": 18,
     "metadata": {},
     "output_type": "execute_result"
    }
   ],
   "source": [
    "m = X_48_disp_no_bias/n**0.5\n",
    "t_88_0_09 = stats.t.ppf(0.91, 88)\n",
    "mu_low_border = X_48_mean - m*t_88_0_09\n",
    "mu_low_border"
   ]
  },
  {
   "cell_type": "code",
   "execution_count": 19,
   "metadata": {},
   "outputs": [
    {
     "data": {
      "text/plain": [
       "1.3514979873581943"
      ]
     },
     "execution_count": 19,
     "metadata": {},
     "output_type": "execute_result"
    }
   ],
   "source": [
    "t_88_0_09 "
   ]
  },
  {
   "cell_type": "code",
   "execution_count": 20,
   "metadata": {},
   "outputs": [
    {
     "data": {
      "text/plain": [
       "[115.25,\n",
       " 116.25,\n",
       " 117.25,\n",
       " 118.25,\n",
       " 119.25,\n",
       " 120.25,\n",
       " 121.25,\n",
       " 122.25,\n",
       " 123.25,\n",
       " 124.25,\n",
       " 125.25,\n",
       " 126.25,\n",
       " 127.25,\n",
       " 128.25]"
      ]
     },
     "execution_count": 20,
     "metadata": {},
     "output_type": "execute_result"
    }
   ],
   "source": [
    "hist_interval_means = [X_0+delta/2+delta*i for i in range(0,r-1)]\n",
    "hist_interval_means"
   ]
  },
  {
   "cell_type": "code",
   "execution_count": 22,
   "metadata": {},
   "outputs": [
    {
     "data": {
      "text/plain": [
       "14"
      ]
     },
     "execution_count": 22,
     "metadata": {},
     "output_type": "execute_result"
    }
   ],
   "source": [
    "len(hist_interval_means)"
   ]
  },
  {
   "cell_type": "code",
   "execution_count": 23,
   "metadata": {},
   "outputs": [
    {
     "data": {
      "text/plain": [
       "(1, 0.011235955056179775)"
      ]
     },
     "execution_count": 23,
     "metadata": {},
     "output_type": "execute_result"
    }
   ],
   "source": [
    "prob_greater_that(X_48, 127)"
   ]
  },
  {
   "cell_type": "code",
   "execution_count": 24,
   "metadata": {},
   "outputs": [
    {
     "data": {
      "text/plain": [
       "127.5"
      ]
     },
     "execution_count": 24,
     "metadata": {},
     "output_type": "execute_result"
    }
   ],
   "source": [
    "max(X_48)"
   ]
  },
  {
   "cell_type": "code",
   "execution_count": 85,
   "metadata": {},
   "outputs": [
    {
     "data": {
      "text/plain": [
       "[0, 1, 1, 5, 5, 13, 19, 17, 14, 4, 4, 4, 0, 2, 0]"
      ]
     },
     "execution_count": 85,
     "metadata": {},
     "output_type": "execute_result"
    }
   ],
   "source": [
    "intervals_48_count"
   ]
  },
  {
   "cell_type": "code",
   "execution_count": 26,
   "metadata": {},
   "outputs": [
    {
     "data": {
      "text/plain": [
       "120.92415730337079"
      ]
     },
     "execution_count": 26,
     "metadata": {},
     "output_type": "execute_result"
    }
   ],
   "source": [
    "(1*115.25+1*116.25+5*117.25+5*118.25+13*119.25+19*120.25+17*121.25+14*122.25+4*123.25+4*124.25+4*125.25+0*126.25+2*127.25+0*128.25)/n"
   ]
  },
  {
   "cell_type": "code",
   "execution_count": 27,
   "metadata": {},
   "outputs": [],
   "source": [
    "def get_groupped_mean(intervals_count, hist_interval_means):\n",
    "  intervals_count = intervals_count[1:]\n",
    "  n=sum(intervals_count)\n",
    "  return round(sum([i*x for i,x in zip(intervals_count, hist_interval_means)])/n,3)"
   ]
  },
  {
   "cell_type": "code",
   "execution_count": 28,
   "metadata": {},
   "outputs": [],
   "source": [
    "X_48_groupped_mean = get_groupped_mean(intervals_48_count, hist_interval_means)"
   ]
  },
  {
   "cell_type": "code",
   "execution_count": 30,
   "metadata": {},
   "outputs": [],
   "source": [
    "def get_groupped_disp(intervals_count, hist_interval_means, groupped_mean):\n",
    "  intervals_count = intervals_count[1:]\n",
    "  n=sum(intervals_count)\n",
    "  first_term = sum([v_j*x_j_mean**2 for v_j, x_j_mean in zip(intervals_count, hist_interval_means)])/n\n",
    "  return round(first_term - groupped_mean**2, 3)"
   ]
  },
  {
   "cell_type": "code",
   "execution_count": 31,
   "metadata": {},
   "outputs": [
    {
     "data": {
      "text/plain": [
       "5.089"
      ]
     },
     "execution_count": 31,
     "metadata": {},
     "output_type": "execute_result"
    }
   ],
   "source": [
    "X_48_groupped_disp = get_groupped_disp(intervals_48_count, hist_interval_means, X_48_groupped_mean)\n",
    "X_48_groupped_disp"
   ]
  },
  {
   "cell_type": "code",
   "execution_count": 32,
   "metadata": {},
   "outputs": [
    {
     "data": {
      "text/plain": [
       "2.256"
      ]
     },
     "execution_count": 32,
     "metadata": {},
     "output_type": "execute_result"
    }
   ],
   "source": [
    "X_48_groupped_std = round(X_48_groupped_disp**0.5, 3)\n",
    "X_48_groupped_std"
   ]
  },
  {
   "cell_type": "markdown",
   "metadata": {},
   "source": [
    "# Доверительный интервал для среднего"
   ]
  },
  {
   "cell_type": "code",
   "execution_count": 33,
   "metadata": {},
   "outputs": [],
   "source": [
    "def get_mean_conf_interval(mean, std, n, alpha, mode):\n",
    "  m = std/n**0.5\n",
    "  if mode == 'two-side':\n",
    "    t = stats.t.ppf(1-alpha/2, n-1)\n",
    "    res = (round(mean-m*t,3), round(mean+m*t,3)),round(t,3)\n",
    "  elif mode == 'low':\n",
    "    t = stats.t.ppf(alpha, n-1)\n",
    "    res = (round(mean-t*m,3),+np.inf),round(t,3)\n",
    "  elif mode == 'high':\n",
    "    t = stats.t.ppf(alpha, n-1)\n",
    "    res = (-np.inf, round(mean+t*m)),round(t,3)\n",
    "  else:\n",
    "    res='Unknown mode'\n",
    "  return res"
   ]
  },
  {
   "cell_type": "code",
   "execution_count": 34,
   "metadata": {},
   "outputs": [
    {
     "data": {
      "text/plain": [
       "((120.157, inf), 1.351)"
      ]
     },
     "execution_count": 34,
     "metadata": {},
     "output_type": "execute_result"
    }
   ],
   "source": [
    "mean_conf_interaval = get_mean_conf_interval(X_48_mean, X_48_disp_no_bias, n, mu_low_border_p/100, 'low')\n",
    "mean_conf_interaval"
   ]
  },
  {
   "cell_type": "code",
   "execution_count": 35,
   "metadata": {},
   "outputs": [
    {
     "data": {
      "text/plain": [
       "0.24"
      ]
     },
     "execution_count": 35,
     "metadata": {},
     "output_type": "execute_result"
    }
   ],
   "source": [
    "m = round(X_48_std_no_bias/n**0.5, 3)\n",
    "m"
   ]
  },
  {
   "cell_type": "markdown",
   "metadata": {},
   "source": [
    "# Доверительный интервал для дисперсии"
   ]
  },
  {
   "cell_type": "code",
   "execution_count": 36,
   "metadata": {},
   "outputs": [],
   "source": [
    "def get_disp_conf_interval(disp, n, alpha, mode):\n",
    "  if mode == 'two-side':\n",
    "    chi_low = stats.chi2.ppf(alpha/2, n-1)\n",
    "    chi_high = stats.chi2.ppf(1-alpha/2, n-1)\n",
    "    res = ((n-1)*disp/chi_low, (n-1)*disp/chi_high)\n",
    "  elif mode == 'low':\n",
    "    chi_low = stats.chi2.ppf(alpha, n-1)\n",
    "    res = ((n-1)*disp/chi_low, +np.inf)\n",
    "  elif mode == 'high':\n",
    "    chi_high = stats.chi2.ppf(1-alpha, n-1)\n",
    "    res = (0, (n-1)*disp/chi_high)\n",
    "  else:\n",
    "    res = 'Unknown mode'\n",
    "  return res"
   ]
  },
  {
   "cell_type": "code",
   "execution_count": 37,
   "metadata": {},
   "outputs": [
    {
     "data": {
      "text/plain": [
       "(0, 6.369816164787568)"
      ]
     },
     "execution_count": 37,
     "metadata": {},
     "output_type": "execute_result"
    }
   ],
   "source": [
    "disp_conf_interval =get_disp_conf_interval(X_48_disp_no_bias, n, disp_high_border_p/100, mode='high')\n",
    "disp_conf_interval"
   ]
  },
  {
   "cell_type": "markdown",
   "metadata": {},
   "source": [
    "Константа, участвующая в построении доверительного интервала для дисперсии"
   ]
  },
  {
   "cell_type": "code",
   "execution_count": 38,
   "metadata": {},
   "outputs": [
    {
     "data": {
      "text/plain": [
       "106.26011363132523"
      ]
     },
     "execution_count": 38,
     "metadata": {},
     "output_type": "execute_result"
    }
   ],
   "source": [
    "stats.chi2.ppf(0.91,88)"
   ]
  },
  {
   "cell_type": "code",
   "execution_count": null,
   "metadata": {},
   "outputs": [],
   "source": [
    "Правая граница интервала для стандартного отклонения"
   ]
  },
  {
   "cell_type": "code",
   "execution_count": 39,
   "metadata": {},
   "outputs": [
    {
     "data": {
      "text/plain": [
       "2.5238494734804546"
      ]
     },
     "execution_count": 39,
     "metadata": {},
     "output_type": "execute_result"
    }
   ],
   "source": [
    "disp_conf_interval[1]**0.5"
   ]
  },
  {
   "cell_type": "code",
   "execution_count": 42,
   "metadata": {},
   "outputs": [],
   "source": [
    "def factorial(n):\n",
    "  if n == 1 or n == 0:\n",
    "    return 1\n",
    "  else:\n",
    "    return n*factorial(n-1)"
   ]
  },
  {
   "cell_type": "code",
   "execution_count": 43,
   "metadata": {},
   "outputs": [],
   "source": [
    "def combination_number(n,k):\n",
    "  enum = factorial(n)\n",
    "  denum_1 = factorial(k)\n",
    "  denum = denum_1*factorial(n-k)\n",
    "  return enum/denum"
   ]
  },
  {
   "cell_type": "markdown",
   "metadata": {},
   "source": [
    "# Доверительный интервал для медианы"
   ]
  },
  {
   "cell_type": "code",
   "execution_count": null,
   "metadata": {},
   "outputs": [],
   "source": [
    "k"
   ]
  },
  {
   "cell_type": "code",
   "execution_count": 40,
   "metadata": {},
   "outputs": [],
   "source": [
    "def get_median_conf_interval_1(n, alpha):\n",
    "  for s in range(1, int(n/2)):\n",
    "    value_s = sum([combination_number(n,j) for j in range(s, n-s+1)])/(2<<(n-1))>=(1-alpha)\n",
    "    if value_s:\n",
    "      k = s\n",
    "  return k"
   ]
  },
  {
   "cell_type": "code",
   "execution_count": 45,
   "metadata": {},
   "outputs": [
    {
     "data": {
      "text/plain": [
       "43"
      ]
     },
     "execution_count": 45,
     "metadata": {},
     "output_type": "execute_result"
    }
   ],
   "source": [
    "k_1 = get_median_conf_interval_1(n, med_two_side_border_p/100)\n",
    "k_1"
   ]
  },
  {
   "cell_type": "code",
   "execution_count": 46,
   "metadata": {},
   "outputs": [],
   "source": [
    "def get_median_conf_interval_2(n, alpha):\n",
    "  for s in range(0, int(n/2)):\n",
    "    value = (stats.binom(n,0.5).cdf(n-s+1) -stats.binom(n,0.5).cdf(s))>= 1 - alpha\n",
    "    if value:\n",
    "      k = s\n",
    "  return k"
   ]
  },
  {
   "cell_type": "code",
   "execution_count": 47,
   "metadata": {},
   "outputs": [
    {
     "data": {
      "text/plain": [
       "43"
      ]
     },
     "execution_count": 47,
     "metadata": {},
     "output_type": "execute_result"
    }
   ],
   "source": [
    "k_2 = get_median_conf_interval_2(n, med_two_side_border_p/100)\n",
    "k_2"
   ]
  },
  {
   "cell_type": "code",
   "execution_count": 48,
   "metadata": {},
   "outputs": [],
   "source": [
    "k = 43"
   ]
  },
  {
   "cell_type": "code",
   "execution_count": 49,
   "metadata": {},
   "outputs": [
    {
     "data": {
      "text/plain": [
       "(120.6, 121.0)"
      ]
     },
     "execution_count": 49,
     "metadata": {},
     "output_type": "execute_result"
    }
   ],
   "source": [
    "med_conf_interval = (X_48_time_series[k-1], X_48_time_series[n-k+1-1])\n",
    "med_conf_interval"
   ]
  },
  {
   "cell_type": "code",
   "execution_count": 50,
   "metadata": {},
   "outputs": [
    {
     "data": {
      "text/plain": [
       "[<matplotlib.lines.Line2D at 0x1e8c8a43f08>]"
      ]
     },
     "execution_count": 50,
     "metadata": {},
     "output_type": "execute_result"
    },
    {
     "data": {
      "image/png": "[encoded data removed]",
      "text/plain": [
       "<Figure size 432x288 with 1 Axes>"
      ]
     },
     "metadata": {
      "needs_background": "light"
     },
     "output_type": "display_data"
    }
   ],
   "source": [
    "y =[stats.binom(n,0.5).cdf(i) for i in range(90)]\n",
    "plt.plot([i for i in range(90)], y)"
   ]
  },
  {
   "cell_type": "code",
   "execution_count": 51,
   "metadata": {},
   "outputs": [],
   "source": [
    "v = prob_greater_that(X_48, 118.6)[0]"
   ]
  },
  {
   "cell_type": "markdown",
   "metadata": {},
   "source": [
    "# Точные доверительные интервалы для истинной вероятности"
   ]
  },
  {
   "cell_type": "code",
   "execution_count": 52,
   "metadata": {},
   "outputs": [],
   "source": [
    "def get_prob_low_border(n, v, alpha):\n",
    "    f = lambda p: stats.binom(n,p).cdf(v)-(alpha/100)\n",
    "    return(round(optimize.bisect(f, 0,10000),3))"
   ]
  },
  {
   "cell_type": "code",
   "execution_count": 53,
   "metadata": {},
   "outputs": [],
   "source": [
    "def get_prob_high_border(n, v, alpha):\n",
    "    f = lambda p: stats.binom(n,p).cdf(v+1)-(1-alpha/100)\n",
    "    return(round(optimize.bisect(f, 0,10000),3))"
   ]
  },
  {
   "cell_type": "code",
   "execution_count": 54,
   "metadata": {},
   "outputs": [
    {
     "data": {
      "text/plain": [
       "0.773"
      ]
     },
     "execution_count": 54,
     "metadata": {},
     "output_type": "execute_result"
    }
   ],
   "source": [
    "p_low_border = get_prob_low_border(n, v, p_low_border_p)\n",
    "p_low_border"
   ]
  },
  {
   "cell_type": "markdown",
   "metadata": {},
   "source": [
    "# Асимптотический доверительный интервал для истинной вероятности"
   ]
  },
  {
   "cell_type": "code",
   "execution_count": 55,
   "metadata": {},
   "outputs": [],
   "source": [
    "def get_asympt_prob_interval(n,p, alpha):\n",
    "    q = stats.norm.ppf(alpha/100)\n",
    "    m = ((p*(1-p)/n)+(q/(2*n))**2)**0.5\n",
    "    term = q**2/(n+q**2)*(p-0.5)\n",
    "    return((round(p-m*q-term,3), round(p+m*q-term,3)), round(q,3), round(m,3))"
   ]
  },
  {
   "cell_type": "code",
   "execution_count": 56,
   "metadata": {},
   "outputs": [
    {
     "data": {
      "text/plain": [
       "((0.755, 0.934), 2.326, 0.038)"
      ]
     },
     "execution_count": 56,
     "metadata": {},
     "output_type": "execute_result"
    }
   ],
   "source": [
    "p_asympt_interval = get_asympt_prob_interval(n, v/n, p_low_border_p)\n",
    "p_asympt_interval"
   ]
  },
  {
   "cell_type": "markdown",
   "metadata": {},
   "source": [
    "# Эмпирическая функция распределения (ЭФР)"
   ]
  },
  {
   "cell_type": "code",
   "execution_count": 70,
   "metadata": {},
   "outputs": [],
   "source": [
    "X_48_time_series_twised = sorted(X_48_time_series+X_48_time_series)"
   ]
  },
  {
   "cell_type": "code",
   "execution_count": 59,
   "metadata": {},
   "outputs": [
    {
     "data": {
      "text/plain": [
       "115.2"
      ]
     },
     "execution_count": 59,
     "metadata": {},
     "output_type": "execute_result"
    }
   ],
   "source": [
    "X_48_time_series[0]"
   ]
  },
  {
   "cell_type": "code",
   "execution_count": 72,
   "metadata": {},
   "outputs": [],
   "source": [
    "#Добавляем меньшее всех(но не на много) значение к набору данных\n",
    "X_48_time_series_twised = X_48_time_series_twised[-1::-1]+[115.0]\n",
    "X_48_time_series_twised = X_48_time_series_twised[-1::-1]\n",
    "#Добавляем большее(но не слишком) всех значение к набору данных\n",
    "X_48_time_series_twised = X_48_time_series_twised + [127.7]"
   ]
  },
  {
   "cell_type": "code",
   "execution_count": 86,
   "metadata": {},
   "outputs": [],
   "source": [
    "X_48_cdf = sorted([i/n for i in range(n)] + [i/n for i in range(1,n+1)])\n",
    "#Добавляем 0 и 1 к значениям функции распределения:\n",
    "X_48_cdf = X_48_cdf+[1.0]\n",
    "X_48_cdf = X_48_cdf[-1::-1] + [0.0]\n",
    "X_48_cdf = X_48_cdf[-1::-1]"
   ]
  },
  {
   "cell_type": "code",
   "execution_count": 88,
   "metadata": {},
   "outputs": [
    {
     "data": {
      "text/plain": [
       "180"
      ]
     },
     "execution_count": 88,
     "metadata": {},
     "output_type": "execute_result"
    }
   ],
   "source": [
    "len(X_48_cdf)"
   ]
  },
  {
   "cell_type": "code",
   "execution_count": 89,
   "metadata": {},
   "outputs": [
    {
     "data": {
      "text/plain": [
       "180"
      ]
     },
     "execution_count": 89,
     "metadata": {},
     "output_type": "execute_result"
    }
   ],
   "source": [
    "len(X_48_time_series_twised)"
   ]
  },
  {
   "cell_type": "code",
   "execution_count": 90,
   "metadata": {},
   "outputs": [],
   "source": [
    "x = np.linspace(115,128,1000)\n",
    "y_cdf = [stats.norm(X_48_mean,X_48_std).cdf(u) for u in x]"
   ]
  },
  {
   "cell_type": "code",
   "execution_count": 74,
   "metadata": {},
   "outputs": [
    {
     "data": {
      "text/plain": [
       "<matplotlib.legend.Legend at 0x1e8ca201408>"
      ]
     },
     "execution_count": 74,
     "metadata": {},
     "output_type": "execute_result"
    },
    {
     "data": {
      "image/png": "[encoded data removed]",
      "text/plain": [
       "<Figure size 432x288 with 1 Axes>"
      ]
     },
     "metadata": {
      "needs_background": "light"
     },
     "output_type": "display_data"
    }
   ],
   "source": [
    "plt.plot(X_48_time_series_twised, X_48_cdf)\n",
    "plt.plot(x,y_cdf)\n",
    "plt.yticks([0,0.25,0.5,0.75,1])\n",
    "plt.grid()\n",
    "plt.legend([\"Δ=0,080\"], loc='lower right')"
   ]
  },
  {
   "cell_type": "code",
   "execution_count": 83,
   "metadata": {},
   "outputs": [
    {
     "data": {
      "text/plain": [
       "[0, 1, 1, 5, 5, 13, 19, 17, 14, 4, 4, 4, 0, 2, 0]"
      ]
     },
     "execution_count": 83,
     "metadata": {},
     "output_type": "execute_result"
    }
   ],
   "source": [
    "intervals_48_count"
   ]
  },
  {
   "cell_type": "code",
   "execution_count": 95,
   "metadata": {},
   "outputs": [],
   "source": [
    "y_pdf = [stats.norm(X_48_mean, X_48_std).pdf(u) for u in x]\n",
    "intervals_48_count_freq = [i/n for i in intervals_48_count]"
   ]
  },
  {
   "cell_type": "code",
   "execution_count": 100,
   "metadata": {},
   "outputs": [
    {
     "data": {
      "image/png": "[encoded data removed]",
      "text/plain": [
       "<Figure size 720x576 with 1 Axes>"
      ]
     },
     "metadata": {
      "needs_background": "light"
     },
     "output_type": "display_data"
    }
   ],
   "source": [
    "fig, ax = plt.subplots(figsize=(10,8))\n",
    "#hbar = ax.barh(intervals, height=intervals_count,width=1)\n",
    "#plt.bar(intervals_48, height=intervals_48_count_freq,width=0.5,bins=intervals_48);\n",
    "#plt.plot(x, y_pdf, color='r')\n",
    "plt.hist(intervals_48[:-1], weights=intervals_48_count_freq[1:],bins=intervals_48);\n",
    "plt.xticks(intervals_48);\n",
    "plt.plot(x,y_pdf)\n",
    "plt.grid()"
   ]
  },
  {
   "cell_type": "code",
   "execution_count": 93,
   "metadata": {},
   "outputs": [
    {
     "data": {
      "text/plain": [
       "180"
      ]
     },
     "execution_count": 93,
     "metadata": {},
     "output_type": "execute_result"
    }
   ],
   "source": [
    "y_cdf_norm = [stats.norm(X_48_mean, X_48_std).cdf(u) for u in X_48_time_series_twised]"
   ]
  },
  {
   "cell_type": "code",
   "execution_count": 94,
   "metadata": {},
   "outputs": [
    {
     "data": {
      "text/plain": [
       "0.08006497845052774"
      ]
     },
     "execution_count": 94,
     "metadata": {},
     "output_type": "execute_result"
    }
   ],
   "source": [
    "d = [abs(y_1-y_2) for y_1, y_2 in zip(X_48_cdf,y_cdf_norm)]\n",
    "d_max = max(d)\n",
    "d_max"
   ]
  },
  {
   "cell_type": "code",
   "execution_count": null,
   "metadata": {},
   "outputs": [],
   "source": []
  }
 ],
 "metadata": {
  "kernelspec": {
   "display_name": "Python 3",
   "language": "python",
   "name": "python3"
  },
  "language_info": {
   "codemirror_mode": {
    "name": "ipython",
    "version": 3
   },
   "file_extension": ".py",
   "mimetype": "text/x-python",
   "name": "python",
   "nbconvert_exporter": "python",
   "pygments_lexer": "ipython3",
   "version": "3.7.6"
  }
 },
 "nbformat": 4,
 "nbformat_minor": 4
}
